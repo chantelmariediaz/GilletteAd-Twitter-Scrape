{
 "cells": [
  {
   "cell_type": "markdown",
   "metadata": {},
   "source": [
    "# Gillette Ad Tweets Sentiment Analysis"
   ]
  },
  {
   "cell_type": "markdown",
   "metadata": {},
   "source": [
    "### In this tutorial, we will go over how to calculate sentiment analysis using Vader.Sentiment package from NLTK in Python.\n",
    "You can follow along either here or trying it on your own. Instructions on how to set up Anaconda and Python are on my README.md"
   ]
  },
  {
   "cell_type": "markdown",
   "metadata": {},
   "source": [
    "## First Step: Import Packages and CSV"
   ]
  },
  {
   "cell_type": "markdown",
   "metadata": {},
   "source": [
    "When setting up your Jupyter Notebook, you first want to designate a cell (normally the first cell) for importing packages. I normally don't need all the packages, but just in case, I try to download as many as possible for convenience if I may need it in the future. To keep it simple, I have mostly downloaded the ones neccessary for this tutorial. See below and follow along with the comments."
   ]
  },
  {
   "cell_type": "markdown",
   "metadata": {},
   "source": [
    "### Import Packages"
   ]
  },
  {
   "cell_type": "code",
   "execution_count": 1,
   "metadata": {
    "collapsed": true
   },
   "outputs": [],
   "source": [
    "#Import packages\n",
    "import nltk #Import natural language toolkit to preprocess the text data from the tweets\n",
    "\n",
    "from nltk.sentiment.vader import SentimentIntensityAnalyzer as SIA #The main package to calculate sentiment\n",
    "\n",
    "from nltk.tokenize import word_tokenize #Split up the text data into more manageable, opted out since tweets are already in\n",
    "#sentence-like format\n",
    "\n",
    "import pandas as pd #important to organize our data into columns and rows\n",
    "\n",
    "import numpy as np #not using it here but normally is imported along with pandas\n",
    "\n",
    "from nltk.sentiment.util import * #not really necessary since we are using a different sentiment package, but good to have\n",
    "\n",
    "import re #didn't use regular expressions but good to have when working with text data\n",
    "\n",
    "import string  #also good to have when working with text data, but not using it here"
   ]
  },
  {
   "cell_type": "markdown",
   "metadata": {},
   "source": [
    "### Import the Actual Data"
   ]
  },
  {
   "cell_type": "markdown",
   "metadata": {},
   "source": [
    "While the data is not fully cleaned, the sentiment package we are going to use Vader.sentiment is normally used for social media data, and is pretty good at analyzing tweets for e.g. without much cleaning since that it it's primary usage. Here we can download it to our dataframe where will organize the data.\n",
    "\n",
    "To read more about Sentiment Analyzer, click here :http://www.nltk.org/howto/sentiment.html\n",
    "\n",
    "To download the data, check out the repository here: https://github.com/chantelmariediaz/GilletteAd-Twitter-Scrape and click gillette_tweets2.csv\n",
    "\n",
    "Read more about pandas, here: http://pandas.pydata.org/pandas-docs/version/0.15/dsintro.html\n"
   ]
  },
  {
   "cell_type": "markdown",
   "metadata": {},
   "source": [
    "#### Again follow along with the comments"
   ]
  },
  {
   "cell_type": "code",
   "execution_count": 4,
   "metadata": {},
   "outputs": [],
   "source": [
    "#Here we are using pd.read_csv to import our Excel file with the data into our dataframe\n",
    "\n",
    "#I found this encoding since it was giving me an utf8-error. It's important to read your errors. Sometimes not all files will\n",
    "#import smoothly due to some mixing data types in your data. Stackoverflow is your friend\n",
    "\n",
    "#Index_col=None because we do not have an index in our dataset. Again, read the pandas link to know more\n",
    "\n",
    "df = pd.read_csv(\"gillette_tweets2.csv\",encoding=\"ISO-8859-1\",index_col=None)"
   ]
  },
  {
   "cell_type": "markdown",
   "metadata": {},
   "source": [
    "## Preparing The Data for the Sentiment Analysis"
   ]
  },
  {
   "cell_type": "markdown",
   "metadata": {},
   "source": [
    "In this section, we will start to tokenize or split up the text data into something more readable for the Vader.sentiment.\n",
    "This is something you'll have to do with any text data you are working with. here, we are doing sentences for the tweets."
   ]
  },
  {
   "cell_type": "code",
   "execution_count": 5,
   "metadata": {},
   "outputs": [
    {
     "data": {
      "text/plain": [
       "Index(['Keyword', 'Tweet'], dtype='object')"
      ]
     },
     "execution_count": 5,
     "metadata": {},
     "output_type": "execute_result"
    }
   ],
   "source": [
    "#Checking out the columns in our dataset from the excel csv file we imported previously\n",
    "#As you can see there are two columns, the tag or keyword we used to get the data, and the tweet.\n",
    "#We don't need the tag really, so we're going to be splitting up the sentences in the tweet\n",
    "\n",
    "df.columns"
   ]
  },
  {
   "cell_type": "code",
   "execution_count": 7,
   "metadata": {},
   "outputs": [],
   "source": [
    "#Using the column 'Tweet' from our dataframe, here are creating a list to process the tweet as a list of strings\n",
    "#Vader can only take string, so this is an import conversion, again you'll understand if you read the docs\n",
    "\n",
    "sentences = list(df['Tweet'])"
   ]
  },
  {
   "cell_type": "code",
   "execution_count": 8,
   "metadata": {
    "scrolled": false
   },
   "outputs": [
    {
     "data": {
      "text/plain": [
       "list"
      ]
     },
     "execution_count": 8,
     "metadata": {},
     "output_type": "execute_result"
    }
   ],
   "source": [
    "#You can check the type to make sure you did this part properly\n",
    "type(sentences)"
   ]
  },
  {
   "cell_type": "code",
   "execution_count": 9,
   "metadata": {
    "scrolled": true
   },
   "outputs": [
    {
     "data": {
      "text/plain": [
       "[\"yes #gillette show men the truth &amp; noble way, please!'\",\n",
       " \"#barbasol has a new ad countering the anti-real man ads promoted by #gillette.'\",\n",
       " \"you know if this guy just would have watched that gillette ad none of this would\\x92ve happened.', o sad #gillette'\",\n",
       " \"guys, please calm down.', it not like #gillette asking you to shave your whole body, wear makeup, perfume, high heels;\",\n",
       " 'takes to youtube to rant about the stupidity where #gillette staff members call the recently released t',\n",
       " \"#gillette must be aware that most of the complaints made by women are fake and frivolous.', '#fakecases are made on men are in'\",\n",
       " \"yes #gillette show men the truth &amp; noble way, please!'\",\n",
       " \"oh my gosh!!!', ken gonna need some pink #gillette razors for those pretty legs!\",\n",
       " \"you don\\x92t get any points #gillette for shaming men not when your brand has paicipated actively in objectifying women for ye'\",\n",
       " \"guys, please calm down.', it not like #gillette asking you to shave your whole body, wear makeup, perfume, high heels;\",\n",
       " \"guys, please calm down.', it not like #gillette asking you to shave your whole body, wear makeup, perfume, high heels;\",\n",
       " \"see our latest #gillette, wy #labor job oppounity and click the link in our bio to apply: floorhand well servicin'\",\n",
       " \"replace #inclusion with #tolerance!', everyone has right to be themselves, not having to change to fit today version of\",\n",
       " \"our video response to gillette.', it time for society to sta celebrating each other., 'not tearing each other down.', '#wes'\",\n",
       " \"#gillette must be aware that most of the complaints made by women are fake and frivolous.', '#fakecases are made on men are in'\",\n",
       " \"#gillette add suggests that every man is a bad man but i'm not., 'i care about the people around me, i respect genuine women ar'\",\n",
       " \"replace #inclusion with #tolerance!', everyone has right to be themselves, not having to change to fit today version of\",\n",
       " \"replace #inclusion with #tolerance!', everyone has right to be themselves, not having to change to fit today versio\",\n",
       " \"turns out almost everyone loved that 'controversial' gillette ad about toxic masculinity?\",\n",
       " \"gillette nothing says customer service like ignoring someone and then banishing them to on hold.'\",\n",
       " \"\\x93suppoing women and calling for a safer world for all does not make you less of a man.', 'it makes you a better person.\\x94 cu'\",\n",
       " \"this is how you use your brand.', 'this is how you engage with your audience.', 'gillette being aware of mostly having a male au'\",\n",
       " \"i want a man to be masculine.', 'i want someone to open the door for me!', 'why was gillette willing to risk 50% of their client'\",\n",
       " \"no, i don\\x92t.. i don\\x92t think it\\x92s harmful to teach \\x93little boys\\x94 that there\\x92s an issue'\",\n",
       " \"that gillette ad though right, so offensive'\",\n",
       " \"you shouldn\\x92t body shame remember?', 'gillette and all the other liberal bs y\\x92all spout.'\",\n",
       " \"it\\\\ only by challenging ourselves to do more that we can get closer to our best proctergamble \\x91s gillette is t'\",\n",
       " \"gillette at the risk of tying you down to specifics, what behaviour in the add was toxic masculinit'\",\n",
       " \"\\x93it\\x92s not easy being tough\\x94 - i think someone needs to watch a gillette commercial'\",\n",
       " \"axe speedstick dove gillette oldspice secretdeodorant you\\x92re all pa of a conservative sm'\",\n",
       " \"gillette: the worst an ad can get | via youtube'\",\n",
       " \"yes i know gillette also wanted profit.', 'this is also not an exhaustive list.', 'but it is exhausting just thinking about it.'\",\n",
       " \"gillette by poraying play fighting as a bad thing.', 'by poraying chatting up wo'\",\n",
       " \"we are so sorry that your message wasn't responded to by our customer care., 'please call 1-800-44'\",\n",
       " 'inc: here how to avoid being the next gillette or pepsi in 2019 dakotashane_nun',\n",
       " \"#crimebywomen #fraudbywomen #elizabethholmes #womenempowerment #womensmarch2019 #thebestwomencanbe gillette story'\",\n",
       " \"this is how you use your brand.', 'this is how you engage with your audience.', 'gillette being aware of mostly having a male au'\",\n",
       " 'cnn it like that gillette commercial.',\n",
       " 'those poor folks need to shave with gillette as i hear it amazing on sensitive skin.',\n",
       " 'here how to avoid being the next gillette or pepsi in 2019',\n",
       " 'here how to avoid being the next gillette or pepsi in 2019',\n",
       " \"ads for women: be thin, be thick, love your body, your boobs look bigger in this, dye your hair, embrace your grays, the'\",\n",
       " 'inc: here how to avoid being the next gillette or pepsi in 2019',\n",
       " 'here how to avoid being the next gillette or pepsi in 2019',\n",
       " \"in response to #gillettead this needs to go viral ... we know gillette is full of crap, but'\",\n",
       " \"the top body razor pick in our guide to the best drugstore makeup, hair, and skincare products, the gillette venus'\",\n",
       " 'here how to avoid being the next gillette or pepsi in 2019',\n",
       " 'here how to avoid being the next gillette or pepsi in 2019',\n",
       " 'GoStars Stamkos ThisIsUs TBLvsDAL \\x85 This Tweet from has been withheld in United States He should stick to playing Fortnite 16 hours a day stopping only to furiously masturbate or eat Doritos His dick\\x85 Oh dear Over a month later the little petal is still bothered by the GilletteAd',\n",
       " 'Brexit NoConfidenceVote NoConfidenceMotion NoConf\\x85 wokeadvertising does it work for the brand and business nike pepsico GilletteAd StudioBrule This is how you market to men Gillette take notes and fire the morons at especially that hate-filled f\\x85 Word_Massager Time to toxic man up Take a task bar trip A change of pace from the usual sexist route we take Bring your to do self imp\\x85 toxicmasculinity GilletteAd GilletteAd This ad should get all the free air time that GilletteAd got This ad actually deserves it',\n",
       " 'GoStars Stamkos ThisIsUs TBLvsDAL Thanks to the GilletteAd now I am a proud member of the DollarShaveClub',\n",
       " 'These took me the 3 hours but damn were they worth it GilletteAd\\x85 4Freedoms_GR Christian men will be overrun by Muslims if they don t man up Visible already in some European nations gender masculi\\x85 Gillette Hey let break the cycle and be good people and role models for a better future GilletteAd',\n",
       " 'Fragile Men If you re threatened by a razor commercial asking you to be a better man you don t need a new shaver you need new standa\\x85 Thank you GilletteAd for making people like Hannah tar all white men with the same brush Bravo ToxicFemales GilletteAd ToxicFeminists',\n",
       " 'BOYcottGillette GilletteBOYcott',\n",
       " 'GilletteThemKnow GetWokeGoBroke\\x85 What the GilletteAd Gets Wrong About ToxicMasculinity',\n",
       " 'getwokegobroke gilletteboycott\\x85 revcdlc I wrote a new article for NEXTpcusa The Best a Pastor Can Be On the viral Gillette ad about men and how The Will to Cha\\x85 People are literally outraged over an ad that simply advised men not to bully or sexually harass anyone GilletteAd Gillette I was shaving my toxic masculinity with one of your razors as you recommended and I cut myself I thin\\x85 JackMaddenbooks Kavanaugh CovingtonBoys GilletteAd JussieSmollettHoax Racism Leftism',\n",
       " 'Barbasol Once Showed Gillette How To Make a Commercial for Real Men',\n",
       " 'BoycottGillette',\n",
       " 'MeetBarbasol arbasol Once Showed Gillette How To Make a Commercial for Real Men',\n",
       " 'BoycottGillette MeetBarbasol destinyisbright Crying is for pussies ImaRealMan BoycottGillette Gillette Goodbye Gillette my loyal 25 year relationship with you is now officially over Enough hatred of white m\\x85 Once Showed How To Make a Commercial for Real Men',\n",
       " 'BoycottGillette',\n",
       " 'MeetBarbasol MeetBarbasol Barbasol Once Showed Gillette How To Make a Commercial for Real Men',\n",
       " 'BoycottGillette',\n",
       " 'Inexpensive Inexpensive alternative to the Gillette is DorcoUSA Got this and 12 extra blades for 23 and it works great Stevie_Gonzalez Hey Gillette here some more ToxicMasculinity for next ad And so glad I no longer buy your product\\x85 One Man Harrowing Journey to Cure His Toxic Masculinity',\n",
       " 'toxicmasculinity\\x85 Shaving Company Emasculette Develops Razor Castration Device For New Generation of Men',\n",
       " 'WSJ I said it before and will say it again BoycottGillette Gillette Patriots No one wants your soy boy razors anymore but thanks for pushing me into the a or ToxicFeminism GilletteBoycott BoycottGillette',\n",
       " 'The Best a Woman Can Get',\n",
       " 'toxicfeminism BoycottGillette Gillette I just threw away the last cartridge I will ever purchase from P amp G. Had been a customer since Army basic\\x85 ToxicFemales GilletteAd ToxicFeminists',\n",
       " 'BOYcottGillette GilletteBOYcott',\n",
       " \"GilletteThemKnow GetWokeGoBroke\\x85 JackPosobiec Already have and do boycottNFL BoycottEmpire BoycottGillette boycotTV no more award shows no mor\\x85 'Make the choice for yourself Transgender teen Jazz Jennings stars in campaign GrrrGraphics New Era in advertising BenGarrison cartoon GilletteAd Gillette BoycottGillette What about genderequity stop th\\x85 MikeSto41469647 PamelaGeller Would this qualify as Toxic Masculinity\",\n",
       " \"BoycottGill\\x85 parthasa Why ProcterGamble does n't really care if men BoycottGillette BoycottPnG There feminist agenda will not stop\",\n",
       " \"I do n't hear Gillette complaining about this BoycottGill\\x85 ToxicFeminism\",\n",
       " 'BoycottGill\\x85 ToxicFeminism GilletteBoycott BoycottGillette PamelaGeller Would this qualify as Toxic Masculinity',\n",
       " 'BoycottGillette',\n",
       " \"MAGA BOYCOTT GILETTE One month down BoycottGillette gilletteboycott gillettecommercial Got my new shaving gear from thebluebeards Looking forward to trying it out BoycottGillette Glad to see replaced in local store Man bashing is n't a good business strategy BoycottGilletteDear Strong Kind Considerate Men Thankyou boycottgillette gillette via YouTube Gillette So in other words ... Men arent allowed to have mental health issues In a society where it is a huge issu\\x85 Gillette You hear that ... Its your stock still stagnant and declining itsover WeWillWin boycottpg Boycottgillette One month after the GilletteAd came out their stocks reflect the decline we expected GetWokeGoBroke \\x85JenniferVapes Want to BoycottGillette Offend by the GilletteAd I love DollarShaveClub 9 They have 5\\x85 No wonder their shares are down and people are boycotting their product\",\n",
       " 'Should we prepare ourselves for a money boycott BoycottNike BoycottGillette ToxicFemales GilletteAd ToxicFeminists',\n",
       " 'GilletteThemKnow GetWokeGoBroke Gillette',\n",
       " 'Feminism ToxicFeminism\\x85 ToxicFemales GilletteAd ToxicFeminists',\n",
       " 'GilletteThemKnow GetWokeGoBroke Gillette',\n",
       " 'Feminism ToxicFeminism\\x85 internationalm Gillette Here some ToxicFeminism ToxicBlackLives ToxicGayPride ToxicIslamism GilletteAd scr\\x85 Gillette is actively censoring any mention of their FALSE Made in the USA ads from last Gillette and Tomas3percenter Colin needs 20 million I guess you can wait another 5 years You ain t worth 1/1024 of that',\n",
       " 'boycottnik\\x85 GoldenTiger_MRA Valentines ThursdayThoughts ValentinesDay ShiftFocus NoValentineDay BoycottGillette boycott StitchFixRedCarpet\\x85 Colin needs 20 million I guess you can wait another 5 years You ain t worth 1/1024 of',\n",
       " 'BoycottNFL\\x85 White people are all racist scum',\n",
       " 'BoycottGillette',\n",
       " 'boycottproctorandgamble',\n",
       " 'boycottgillette toxicmasculinity GilletteAd toxicfeminism ParticipationTrophy mentality on display WakeUpAmerica SeeClearly ManUp BoycottGillette ChrisMalispina Don t let this happen to you',\n",
       " 'BoycottGillette ToxicFemales GilletteAd ToxicFeminists',\n",
       " 'GilletteThemKnow GetWokeGoBroke Gillette',\n",
       " 'Feminism ToxicFeminism\\x85 decoder_mrMGTOW So women want to teach us what toxic behaviour is',\n",
       " 'BoycottGillette Are the Yankees not BoycottGillette ToxicFemales GilletteAd',\n",
       " 'GilletteThemKnow GetWokeGoBroke Gillette',\n",
       " 'Feminism ToxicFeminism ToxicWomen\\x85 GilletteAd ToxicFemales',\n",
       " 'GilletteThemKnow GetWokeGoBroke Gillette',\n",
       " 'Feminism ToxicFeminism ToxicWomen\\x85 GilletteAd ToxicFemales',\n",
       " 'GilletteThemKnow GetWokeGoBroke Gillette',\n",
       " 'Feminism ToxicFeminism ToxicWomen\\x85 GilletteAd ToxicFemales',\n",
       " 'GilletteThemKnow GetWokeGoBroke Gillette',\n",
       " 'Feminism ToxicFeminism ToxicWomen\\x85 GilletteAd ToxicFemales',\n",
       " 'GilletteThemKnow GetWokeGoBroke Gillette',\n",
       " 'Feminism ToxicFeminism ToxicWomen\\x85 GilletteAd ToxicFemales',\n",
       " 'GilletteThemKnow GetWokeGoBroke Gillette',\n",
       " 'Feminism ToxicFeminism ToxicWomen\\x85 GilletteAd ToxicFemales',\n",
       " 'GilletteThemKnow GetWokeGoBroke Gillette',\n",
       " 'Feminism ToxicFeminism ToxicWomen\\x85 GilletteAd ToxicFemales',\n",
       " 'Feminism ToxicFeminism ToxicWomen\\x85 internationalm fireemilynow msemilymccombs HuffPost HuffPostWomen GoatApocalypse GilletteAd ToxicFemales\\x85 And THIS is HOW the LoonieLefties hope to FIGHT that EVIL ToxicMasculinity Jeepers Can I get Fr\\x85 And THIS is HOW the LoonieLefties hope to FIGHT that EVIL ToxicMasculinity',\n",
       " 'I willin to bet\\x85 Javashots BoycottGillette BoycottGillette Excellent expose og Jillette male hating extreme feminist propaganda BoycottGillette Gillette thanks for pissing me off last month I didn t realise I could save sooo much on other razors\\x85 Min nya rakhyvel BoycottGillette Wilkinson commercial via YouTube SenSchumer Did aoc give chucky some Twitter time an tell wittle chucky what to say',\n",
       " \"6 more years Valentines ThursdayThoughts ValentinesDay ShiftFocus NoValentineDay BoycottGillette boycott\\x85Gillette Parody The Best Women Can Get GilletteAd BoycottGillette boycottPandG Mf will boycott gucci over blackface then turn around and go to church on sunday smh gucciboycott gucciblackface Blac\\x85 Marvel Please do n't us men need to stick together t\\x85 thank Gillette the best a lt insert own pronoun gt can get Someone said that they would BoycottGillette I said MeToo \\x85 StringToTheMax FoxNews ProcterGamble Disney tide Downy Bounty Charmin Always Tampax \\x85 ToxicGillette ToxicProcterAndGamble ToxicChemicals\",\n",
       " 'GilletteAd GilletteJaune Gillette BOYcottGillette OliviaPWalkerPA HowardA_Esq I recommend you view this thread',\n",
       " 'GilletteAd\\x85 Crow_mynation BelieveAllWomen FeministMafia FeminismIsCancer Feminazis terrorism StopLegalTerrorism BoycottGillette ToxicFemin\\x85 ChrisCutter5 Gillette GilletteThemKnow GilletteAd Gillette',\n",
       " 'Gillette ToxicGillette ToxicAdvertising\\x85 YungStacc_Money Brilliant Parody site Daequan',\n",
       " 'Gillette ToxicGillette ToxicAdvertising\\x85 Mf will boycott gucci over blackface then turn around and go to church on sunday smh gucciboycott\\x85FoxNews ProcterGamble Disney tide Downy Bounty Charmin Always\\x85 REMEMBER boycottgillette propaganda Halber Preis mehr Inhalt Für das beste im Mann',\n",
       " 'BoycottGillette BelieveAllWomen FeministMafia FeminismIsCancer Feminazis terrorism StopLegalTerrorism BoycottGillette\\x85 Gillette Patriots Is this the best Gillette can get Probably worse But BoycottGillette AlMonnkind Gillette Patriots Hence the BoycottGillette see for yourself what Gillette does Then has the nerve\\x85 jfhanry Gillette Patriots BoycottGillette CitizensMandate Thank God for the men throughout history that have fought and sacrificed so that we may live free',\n",
       " 'BoycottGillette FeminismIsCancer Americans kandkradio audioBoom GilletteAd ToxicFemales',\n",
       " 'GilletteThemKnow GetWokeGoBroke Gillette',\n",
       " 'GilletteThemKnow GetWokeGoBroke\\x85 Let support companies that truly appreciate men for who they are BoycottGillette Gillette the best a lt insert own pronoun gt can get Someone said that they would BoycottGillette I said MeToo',\n",
       " '#GilletteThemKnow #GetWokeGoBroke Let suppo companies that truly appreciate men for who they are.',\n",
       " '#BoycottGillette Gillette \"the best a &lt;inse own pronoun&gt; can get\". Someone said that they would #BoycottGillette, I said #MeToo :\\x85',\n",
       " \"is she boycotting gillette?', 'in that case i am on board 100%'\",\n",
       " \"gillette wow, gotta say, i\\x92m triggered.', 'my souls can not fathom how happy i am with this.', 'wow, just wow.', 'i love t'\",\n",
       " \"if gillette had said this , this way ... the backslash were no where near the one'\",\n",
       " \"i really appreciate that you addressed objectificati'\",\n",
       " \": i just hope #gilette makes an ad reminding women not to fake their sexual assaults.', 'really impoant we be reminded not'\",\n",
       " \": i just hope #gilette makes an ad reminding women not to fake their sexual assaults.', 'really impoant we be reminded not'\",\n",
       " \"is this the best the women can get ?', '#gilette #boycottgilette #feminism'\",\n",
       " \": i just hope #gilette makes an ad reminding women not to fake their sexual assaults.', 'really impoant we be reminded not'\",\n",
       " \": i just hope #gilette makes an ad reminding women not to fake their sexual assaults.', 'really impoant we be reminded not'\",\n",
       " \": i just hope #gilette makes an ad reminding women not to fake their sexual assaults.', 'really impoant we be reminded not'\",\n",
       " \"should #gilette even be allowed to still sponsor #soccersaturday given that they clearly hate men so much nowadays?'\",\n",
       " \"about that total shit #gilette commercial #feminism #proctorgamble'\",\n",
       " \"diane lane is so much more interesting banging that painter in \\x91unfaithful\\x92 than she is in \\x91house of cards\\x92 on .', 'netflix #gilette'\",\n",
       " \"looks like #reebok and #gilette are 100% communists.', 'their adveising are so leftist that #lenin would buy both.', 'i'\",\n",
       " \"gillette can go fuck themselves #gilette #gillettead #adidas #bullshit'\",\n",
       " \": i just hope #gilette makes an ad reminding women not to fake their sexual assaults.', 'really impoant we be reminded not'\",\n",
       " \"she should be in the next #gilette ad, no really shaving that gash'\",\n",
       " \"#soyboy walking #gilette ad beta o\\x92rourke just climbed up the intersectionality ladder.', 'kamala better watch out .', 'htt'\",\n",
       " \"thanks #gilette for making this meme possible lol'\",\n",
       " \"well #soyboy walking #gilette ad beta o\\x92rourke just climbed up the intersectionality ladder.', 'kamala better watch out .', 'htt'\",\n",
       " \"men: we don't need #gilette to tell us how to be better human beings also men:\",\n",
       " \"men: we don't need #gilette to tell us how to be better human beings also men:\",\n",
       " \"still thinking of the guy who kept interrupting a speaker last night to say how not bothered he was about his male'\",\n",
       " \": i just hope #gilette makes an ad reminding women not to fake their sexual assaults.', 'really impoant we be reminded not'\",\n",
       " \"im just so grateful to have a billion dollar corporation make an ad to let me know how shitty my gende'\",\n",
       " \"men: we don't need #gilette to tell us how to be better human beings also men:\",\n",
       " \"men: we don't need #gilette to tell us how to be better human beings also men:\",\n",
       " \"men: we don't need #gilette to tell us how to be better human beings also men:\",\n",
       " \"men: we don't need #gilette to tell us how to be better human beings also men:\",\n",
       " \"men: we don't need #gilette to tell us how to be better human beings also men:\",\n",
       " \"masculinity is not under attack.', what under attack is men who are sexist, misogynistic or even downright dangerous to o\",\n",
       " \"masculinity is not under attack.', what under attack is men who are sexist, misogynistic or even downright dangerous to o\",\n",
       " \"men: we don't need #gilette to tell us how to be better human beings also men:\",\n",
       " \"men: we don't need #gilette to tell us how to be better human beings also men:\",\n",
       " \": i just hope #gilette makes an ad reminding women not to fake their sexual assaults.', 'really impoant we be reminded not'\",\n",
       " \": i just hope #gilette makes an ad reminding women not to fake their sexual assaults.', 'really impoant we be reminded not'\",\n",
       " \": i just hope #gilette makes an ad reminding women not to fake their sexual assaults.', 'really impoant we be reminded not'\",\n",
       " \": i just hope #gilette makes an ad reminding women not to fake their sexual assaults.', 'really impoant we be reminded not'\",\n",
       " \": i just hope #gilette makes an ad reminding women not to fake their sexual assaults.', 'really impoant we be reminded not'\",\n",
       " \"i hate porn from the 70s.', '#gilette'\",\n",
       " \"not the best a man can get #gilette'\",\n",
       " \"so, just seeing the #gilette commercial.', '#applause #newcustomer #boys #men'\",\n",
       " \"well #soyboy walking #gilette ad beta o\\x92rourke just climbed up the intersectionality ladder.', 'kamala better watch ou'\",\n",
       " \"men: we don't need #gilette to tell us how to be better human beings also men:\",\n",
       " \"men: we don't need #gilette to tell us how to be better human beings also men:\",\n",
       " \"men: we don't need #gilette to tell us how to be better human beings also men:\",\n",
       " \"men: we don't need #gilette to tell us how to be better human beings also men:\",\n",
       " \"men: we don't need #gilette to tell us how to be better human beings also men:\",\n",
       " \"men: we don't need #gilette to tell us how to be better human beings also men:\",\n",
       " \"men: we don't need #gilette to tell us how to be better human beings also men:\",\n",
       " \"men: we don't need #gilette to tell us how to be better human beings also men:\",\n",
       " \"men: we don't need #gilette to tell us how to be better human beings also men:\",\n",
       " \"men: we don't need #gilette to tell us how to be better human beings also men:\",\n",
       " \"men: we don't need #gilette to tell us how to be better human beings also men:\",\n",
       " \"men: we don't need #gilette to tell us how to be better human beings also men:\",\n",
       " \"men: we don't need #gilette to tell us how to be better human beings also men:\",\n",
       " \"men: we don't need #gilette to tell us how to be better human beings also men:\",\n",
       " \"men: we don't need #gilette to tell us how to be better human beings also men:\",\n",
       " \"men: we don't need #gilette to tell us how to be better human beings also men:\",\n",
       " \"men: we don't need #gilette to tell us how to be better human beings also men:\",\n",
       " \"men: we don't need #gilette to tell us how to be better human beings also men:\",\n",
       " \"men: we don't need #gilette to tell us how to be better human beings also men:\",\n",
       " \"men: we don't need #gilette to tell us how to be better human beings also men:\",\n",
       " \"men: we don't need #gilette to tell us how to be better human beings also men:\",\n",
       " \"ongrats #gilette showing us how brands can positively influence the social narrative!!', '#purposefulmarketing #meaningfulmarke'\",\n",
       " \": i just hope #gilette makes an ad reminding women not to fake their sexual assaults.', 'really impoant we be reminded not'\",\n",
       " \"i love white men, #gilette calls on all men to review their behaviour- lose their neeson wants to kill black ppl-'\",\n",
       " \": i just hope #gilette makes an ad reminding women not to fake their sexual assaults.', 'really impoant we be reminded not'\",\n",
       " \"of course not, why should it at hu them in the first place.', 'controversy is just a great way to catch your attenti'\",\n",
       " \": i just hope #gilette makes an ad reminding women not to fake their sexual assaults.', 'really impoant we be reminded not'\",\n",
       " \"i got these #gilette razors, because if they're good enough for your face, they're good enough for my legs.\",\n",
       " \"get mad, get angry.', 'forget the #superbowl, forget #gilette,.', 'focus on real issues.', 'people are dying because canada'\",\n",
       " \"#gilette had a strong ad, powerful message, why wasn\\\\'t it featured during the #superbowl?', '-nina orezzoli #adbowl #boyswillbeboys'\",\n",
       " '...suck my dick 3rd wave #feminists and #sjw embracing the #gilette #viuesignalling #normies with the most str',\n",
       " \"proctergamble #gilette aunt happy with you'\",\n",
       " \"and i hope #gilette stadium and everything it contains falls into dust.', '#gilette thinks any man is toxic - they sh'\",\n",
       " \"you better go buy your #gilette razors right now.'\",\n",
       " \"#wishmymomtoldme men\\x92s razors work way better than women\\x92s razors.', 'they also tend to be cheaper and better quality.'\",\n",
       " \"i hope nike does another kneeling moron commercial for the #superbowl followed by the #gilette ad.'\",\n",
       " \"i hope nike does another kneeling moron commercial for the #superbowl followed by the #gilette ad.'\",\n",
       " \"dear men offended by the #gilette adve... 1) put your ego aside for 1 second and realise that not everything is about yo'\",\n",
       " \"bullying a boy that does ballet is pa of the toxic masculinity #gilette had an ad against.'\",\n",
       " \"hey boys club - it\\x92s not ok to find humour in terms derogatory towards women, it\\x92s revolting!', 'how about standing up for wha'\",\n",
       " \"hey boys club - it\\x92s not ok to find humour in terms derogatory towards women, it\\x92s revolting!', 'how about standing up'\",\n",
       " \"new video is up!!', 'was the gillette ad nasty or necessary?', 'why are opinions so divided?', here what i think!\",\n",
       " \"#tbt\\x93the best a man can get\\x94 original gillette commercial (1989) #atari #videogamecollection #classicgaming #nes'\",\n",
       " \"days ago, we were celebrating the #gillettead for holding men accountable for their actions.', 'this included diminishing'\",\n",
       " \"this week #blog takes a look at the recent gillette #ad &amp; questions its success &amp; its motives., 'is it still'\",\n",
       " \"gotta love the hipocracy of viue signaling gillette: #boycottgillette #thebestmencanbe #thebestamaamcanget'\",\n",
       " \"so i literally just watched the gillette commercial and i legit almost cried!', 'i love the message!', '#nomoremisogyny #thebestamancanget'\",\n",
       " \"no it was you admitting you were a red all along.', 'i admire that #thebestamancanget'\",\n",
       " \"monday motivation gents, let always be, no matter what, the gentlemen we've been thought and grown up 2 b\",\n",
       " \"a bloke in the shop came up to me and congratulated me for not buying #gillette.', 'then a friend sent me a text becau'\",\n",
       " \"a #juicy little #morsel for all you #soyboy #cucks out there !!', '#thebestamancanget ????????????????????????'\",\n",
       " 'We need to phase out toxic masculinity and replace it with tolerance and love.',\n",
       " 'like no SHIT NotAllMenAreTrash But we say the shit for a reason Hell their reactions to the GilletteAd',\n",
       " 'The Things That Should Offend Us Hint It Not A Razor Commerical',\n",
       " 'I wrote an op ed in response to the Twitter up\\x85 The Things That Should Offend Us Hint It Not A Razor Commerical',\n",
       " 'wrote an op ed in response to the Twitter up\\x85 The Things That Should Offend Us Hint It Not A Razor Commerical',\n",
       " \"I wrote an op ed in response to the Twitter\\x85 So Black folks are courageously addressing this issue head on as it affects their community and white folks are\\x85 And yall was really trippin about a gillet commerecial asking us to do better Y'all funny read a fucking book once\\x85 found_seeker This is beautiful GilletteAd JussieSmollettHoax JussieSmollett HateCrime fakenews\",\n",
       " 'WORLD DESTRUCTION 2019 also JABLINSKI GAMES amp GILLETTE commercial REVIEWS REACTIONS JackBlack real\\x85 This is beautiful GilletteAd JussieSmollettHoax JussieSmollett HateCrime fakenews swordfish_hair Everybody mad about the GilletteAd but nobody even cares that razors like Gillette put facial hair like me out of th\\x85 keithboykin If you re threatened by a razor commercial asking you to be a better man you don t need a new shaver you need new standa\\x85',\n",
       " 'WORLD DESTRUCTION 2019 also JABLINSKI GAMES amp GILLETTE commercial REVIEWS REACTIONS JackBlack real\\x85 Boys will be boys GilletteAd Amirite',\n",
       " 'WORLD DESTRUCTION 2019 also JABLINSKI GAMES amp GILLETTE commercial REVIEWS REACTIONS JackBlack real\\x85',\n",
       " 'WORLD DESTRUCTION 2019 also JABLINSKI GAMES amp GILLETTE commercial REVIEWS REACTIONS JackBlack real\\x85 gopel1990 hssstttt keep silent Captain Marvel leaked free film DVDRIP',\n",
       " 'Yeah if only the GilletteAd showed this but pffff MEN need to be better because *insert political bullshit* If you need a lil pick-me-up on this Monday give this a watch Thanks to NextGenMen for the work they re doing with\\x85 But as she dared to suggest that BatteredMen and post pubertal sons needed Refuges TOO she has be\\x85 THR Sponsor GilletteAd argued for no beards on characters male or female the1inquisitor Also I keep seeing this real men dont shave bullshit being flung around now Do you know how shaving became so popula',\n",
       " 'AUSvSYR Norwood SDLive GilletteAd AskTDU DanEvans\\x85 gutterlovr mixielot Barbie_Sub But people in the West are too busy trying to get men jailed for WolfWhistling\\x85 laidybug45 mixielot M13 GangMember ISIS Jihadi You name it',\n",
       " 'AUSvSYR Norwood SDLive GilletteAd AskTDU DanEvans\\x85 Also I keep seeing this real men dont shave bullshit being flung around now Do you know how shaving became so Exploring the business and societal effects of TheBestMenCanBe GilletteAd from a marketer perspective \\x85Guess what their stance is Yup you got it They dont like toxic masculinity So go ahead and grow out your beard R_Bradshaw91 This ad should get all the free air time that GilletteAd got This ad actually deserves it //t.co/5G8Pf6k9Zi The likely response from the abusers we may decide to confront \\x93 Oh NOW you decide to speak up after doing the sam BreakingBalls00 Shave it up Nude beaman shaving GilletteAd men makeitlookbigger //t.co/cHaauxdYFz How did the men in your family and friend circles respond to this ad fembots ????? JussieSmollett Congrats on your new ad campaign with Gillette Haters gon na hate you go girl',\n",
       " \"GilletteAd\\x85 JLivels ProcterGamble Gillette You missed the point.. I am perfectly fine with the man on the package in fact i\\x85Unfortunately women do n't understand that fake accusations/victims takes valuable time away from actual victims.\\x85 Men are never victims Said *some* women Thought I 'd be technically accurate because if women feel like I am bra\\x85 _strawson BBCNews Oh you took my women as generalising all women Thanks for proving a point I m This is the kind of ToxicMasculinity that should have made it into the GilletteAd Bit of an over reaction Sadly women ca n't see the point I am making They do n't want to admit that harmless f\\x85 I 've currently got one woman on my time line that thinks a bit of harmless flirting that happens is sexual harassme\\x85 g_strawson BBCNews Yet women have been branding 'ALL men as sexual predators 'ALL men are responsible for it.\\x85 KoparaFallsKid Oh dear Over a month later the little petal is still bothered by the GilletteAd KoparaFallsKid This should not need to be said but for the younger less experienced women about the place\",\n",
       " 'If a guy hates this Gil\\x85Oh dear Over a month later the little petal is still bothered by the GilletteAd',\n",
       " 'GoStars Stamkos ThisIsUs TBLvsDAL \\x85 KoparaFallsKid Oh dear Over a month later the little petal is still bothered by the GilletteAd bryankirbyy98 This badass af GilletteAd Watch Escape Room 2019 1080p Blu Ray x264',\n",
       " \"gillette has staed a popular trend.'\",\n",
       " \"woah bro, rape not cool., '#thebestamancanget'\",\n",
       " 'We need to phase out toxic masculinity and replace it with tolerance and love.',\n",
       " 'This is the national emergency 2A ToxicM\\x85 AudreyCharowa BarackObama discussing the roots and signs of ToxicMasculinity in our society is a sight to behold A strong man is c\\x85 TRUE Manhood What Christian Men Can Take Away From Gillette Message on ToxicMasculinity kingdomblogger1 The Things That Should Offend Us Hint It Not A Razor Commerical',\n",
       " 'I wrote an op ed in response to the Twitter up\\x85 Had the best time with these cool humans last night Maddie is now my official BFF due to showing up in a\\x85 The Things That Should Offend Us Hint It Not A Razor Commerical',\n",
       " 'ToxicMasculinity MichaelObama I will still and always watch JohnWayne movies Was he perfect No but he was a man which is more than I can say\\x85 terrycrews Gillette Pro-Woman We re talking about deeply rooted and complicated issues here The issue isn t\\x85 RonaldRHarmon BarackObama POTUS44 doing his part to fight ToxicMasculinity',\n",
       " \"npc brainwashing purl pixar #sparkshos *white men bad* #feminist #pussyhat #gillette reality check'\",\n",
       " \"#gillette thank you for doing what many of us #preach: using your #privilege to say what needed to be said.', 'the on'\",\n",
       " \"i agree with this 1000% gillette #gilletteboycott #gilletead #gillette herbrotherhood #metoo #mentoo #timesup'\",\n",
       " \"#gillettead #gillette just got my wet stone men boys we will find the answer to problems overnight'\",\n",
       " \"i\\x92ve been using #gillette mach3 razors forever.', 'the #gillettead made me look into alternatives.', 'bic has a razor that\\x92s more tha'\",\n",
       " \"sorry for being a male.', '#gillette'\",\n",
       " \"you are such hypocrites.', 'you poray yourselves as suppoing women when this is in your past.', 'i am ashamed i didn\\x92t dum'\",\n",
       " 'other company like theyr costumers,thanks gillette for your ad proctergamble #gillette #gillettead #trash',\n",
       " \"a little heads up for y'all fellas before you get ready to head back to work tomorrow... #mondaymorning #gillette\",\n",
       " \"our video response to gillette.', it time for society to sta celebrating each other., 'not tearing each other down.', '#wes'\",\n",
       " \"no scrubs' for dabchick #music #tlc #gillette #toxicmasculinity\",\n",
       " \"so, another source like #gillette implying that men have finally woken up to their 'bad behaviour'!!, 'there are so many o'\",\n",
       " \"what?', 'did brie larson help #gillette remove your penis?', 'you have devolved into the most pathetic man on the planet.'\",\n",
       " \"remember when there was more outrage at a men\\x92s razor commercial than the random shooting murders of 5 women by an #incel'\",\n",
       " \"so, another source like #gillette implying that men have finally woken up to their 'bad behaviour'!!, 'there are so m'\",\n",
       " \"how your brand can better the best from gillette - we first branding #gillette'\",\n",
       " \"dear gillette, you can't ask men to stand up to other men, by using their own masculinity, to kill the masculinity in ot\",\n",
       " \"dee, only #gillette sales will determine if the add was a success not a survey or any other group expressing an opinion...'\",\n",
       " \"dee, only #gillette sales will determine if the add was a success not a survey or any other group expressing an opi'\",\n",
       " \": the #gillette commercial is the product of mainstream radicalized feminism\\x97 &amp; emblematic of cultural marxism.', top per'\",\n",
       " \"#gillette gillette -pa of the proctor &amp; gamble corporation- telling us not to be sexist is like hitler telling you not to be racist.'\",\n",
       " \"freedom to make bad decisions is a cornerstone of capitalism.', 'bad businesses should be allowed to fail.', '#gillette'\",\n",
       " \"how your brand can better the best from gillette - we first branding #gillette'\",\n",
       " \"a little heads up for y'all fellas before you get ready to head back to work tomorrow... #mondaymorning #gillette\",\n",
       " \"hot hot hot free shipping, limited edition and a new design!', 'check us out!', 'web in the bio'\",\n",
       " \"how your brand can better the best from gillette - we first branding #gillette'\",\n",
       " \"not cool bro #gillette not cool'\",\n",
       " \"marketing 101 #gillette, don\\x92t insult your customer!', 'the #fusion in the foreground, has been retired.', 'i\\x92m saving a'\",\n",
       " \"gillette hmmmm how can they tell us what\\x92s wrong with men?', 'clean your own house!!!', '#gillette'\",\n",
       " \"shopping list includes: #soy #gillette razors chips dips chains whips will probably rage'\",\n",
       " \"occamsrazorcuts: here is a lesson for #gillette.', 'i\\x92ve been a customer of yours for at least 20 years, and i shave my head.', 'no longer wi'\",\n",
       " \"occamsrazorcuts: here is a lesson for #gillette.', 'i\\x92ve been a customer of yours for at least 20 years, and i shave my head.', 'no longer wi'\",\n",
       " \"this toxic masculinity is a real problem in society #gillette'\",\n",
       " \"here is a lesson for #gillette.', 'i\\x92ve been a customer of yours for at least 20 years, and i shave my head.', 'no longer'\",\n",
       " \"this job might be a great fit for you: sales management trainee - #sales #gillette, wy'\",\n",
       " \"very interesting video on the subject #masculinity #toxicmasculinity #men #gillette'\",\n",
       " \"gillette is a fox fake news sponsor?', 'wtf #gillette'\",\n",
       " \"gillette is a fox fake news sponsor?', 'wtf #gillette'\",\n",
       " \"gillette is a fox fake news sponsor?', 'wtf #gillette'\",\n",
       " \"gillette is a fox fake news sponsor?', 'wtf #gillette'\",\n",
       " \"gillette is a fox fake news sponsor?', 'wtf #gillette'\",\n",
       " \"our video response to gillette.', it time for society to sta celebrating each other., 'not tearing each other down.', '#wes'\",\n",
       " \": guys, please calm down.', it not like #gillette asking you to shave your whole body, wear makeup, perfume, high heels;\",\n",
       " \"good news!', 'all of our r1 #unionjack razors and #razor sets are now back in stock.', 'visit fo'\",\n",
       " \"gillette whoops looks like #gillette didn't secure all domains for their\",\n",
       " 'new video is out and it super toxic #gillette',\n",
       " \": the #gillette commercial is the product of mainstream radicalized feminism\\x97 &amp; emblematic of cultural marxism.', top per'\",\n",
       " \"everywhere you look - schools, pop culture, the media, and now #gillette, there is a war on men &amp; masculinity until there'\",\n",
       " \"this new adve from #gillette is an absolute outrage.', 'thanks for constantly reminding me i have no skin on my face,'\",\n",
       " \": the #gillette commercial is the product of mainstream radicalized feminism\\x97 &amp; emblematic of cultural marxism.', top per'\",\n",
       " \"a little heads up for y'all fellas before you get ready to head back to work tomorrow... #mondaymorning #gillette\",\n",
       " \"this is the strength given to men in the form of masculinity by nature.', '#boycottgillette #gillette #gillettead #menaregr'\",\n",
       " 'best #gillette response to date from',\n",
       " 'best #gillette response to date from',\n",
       " '\\x93are you confident enough to listen to the women in your life?\\x94',\n",
       " \"facial hair - is it a sensitive issue for you as a #transwoman here is a solution that may work for you'\",\n",
       " \"gillette maybe a dozen?', 'anyway i dumped #gillette for #schick'\",\n",
       " \"this is the strength given to men in the form of masculinity by nature.', '#boycottgillette #gillette #gillettead #menaregr'\",\n",
       " \"shocker: the #gillette toxic masculinity video created by feminist ad executives- who\\x92da thunk?', '#gillettead'\",\n",
       " \"contrary to what i thought, my wife tells me her husband loves this adve.', '~ we believe: the best #men can be |'\",\n",
       " \"#gillette the best the weird type of men can get'\",\n",
       " \"this new adve from #gillette is an absolute outrage.', 'thanks for constantly reminding me i have no skin on my face,'\",\n",
       " \"this man should be ashamed #gillette #thebestamancanget #metalgearsolidvthephantompain #xboxshare'\",\n",
       " \"oh the hypocrisy of #gillette'\",\n",
       " \"gillette thank you for protecting firefighters and athletes.', 'without your help, it would be impossible for them to\",\n",
       " \"and this is an example of the behaviour that the #gillettead tried to address.', 'his reaction could have'\",\n",
       " 'just watched the #gillettead and now i\\x92m soft v proud of @gillette for the right message',\n",
       " \"how do brands like #gillette influence the way we think?', '--& \\x93to be capable of creating new lifestyles, brands must deve\",\n",
       " \"all of these people (meaning men) who are so outraged about the #gillettead are exactly why we need that ad.', 'step back from yo'\",\n",
       " \"gillette #gillettead #vitilgo gillettevenuslove that commercial!!', 'gillette!!'\",\n",
       " 'go cry about it, you manbabies #gillette #gillettead',\n",
       " 'if you\\x92re threatened by a razor commercial asking you to be a better man, you don\\x92t need a new shaver; you need new standa',\n",
       " 'we should send em some @gillette products.\\', \"maybe that\\'ll cute their #toxicmasculinity',\n",
       " 'this makes me emotional every single time #inclusivity #thebestamancanget',\n",
       " \"thrilled to be buying men's blue razors because nothing else says #equality when paying more for the exact same raz\",\n",
       " \"my exact thought when i read all those negative comments from men.', 'who buys your razors anyway, dude???', '#gillette'\",\n",
       " 'love this ad: we believe: the best men can be | gillette (short film) #gillette',\n",
       " \"just canceled my #gillette #razorblade order.', 'not buying products from a company that accuses all men of being\",\n",
       " 'goodnight to everyone that likes a close shave #gillette #thebestamancanget']"
      ]
     },
     "execution_count": 9,
     "metadata": {},
     "output_type": "execute_result"
    }
   ],
   "source": [
    "#Print out your list of string to get a better glimpse of your data, no longer in a dataframe for now\n",
    "\n",
    "sentences"
   ]
  },
  {
   "cell_type": "markdown",
   "metadata": {},
   "source": [
    "## Calculating Sentiment of Tweets"
   ]
  },
  {
   "cell_type": "markdown",
   "metadata": {},
   "source": [
    "As you know for our project, our goal is to identify the sentiment or public reaction to the controversial gillette ad and seeing if this was a smart marketing strategy for Proctor and Gamble. This can only be done either manually, which we don't really want to do, or with a sentiment package. There are other ones, but this one is used quite frequently."
   ]
  },
  {
   "cell_type": "markdown",
   "metadata": {},
   "source": [
    "#### Creating a New List of Sentiment Scores From the Tweets (Positive, Negative and Neutral)"
   ]
  },
  {
   "cell_type": "code",
   "execution_count": 10,
   "metadata": {
    "collapsed": true
   },
   "outputs": [],
   "source": [
    "#Analyze sentiment with vader\n",
    "\n",
    "sia = SIA()\n",
    "scores = [] #Create a new list with the scores, positive, negative and neutral. As a well as compound which is like the avg\n",
    "\n",
    "for sentence in sentences: #create a list iterator\n",
    "    \n",
    "    pol_score = sia.polarity_scores(sentence) #put a wrapper in order for vader to calculate sentiment\n",
    "    \n",
    "    pol_score['sentences'] = sentence #Create a new list with the tweets called sentences\n",
    "    \n",
    "    scores.append(pol_score) #Append or add your new polarity scores to the original list with just the tweets or sentences"
   ]
  },
  {
   "cell_type": "markdown",
   "metadata": {},
   "source": [
    "#### Relabeling and Organizing Data Again into Dataframe"
   ]
  },
  {
   "cell_type": "code",
   "execution_count": 11,
   "metadata": {},
   "outputs": [
    {
     "data": {
      "text/html": [
       "<div>\n",
       "<style>\n",
       "    .dataframe thead tr:only-child th {\n",
       "        text-align: right;\n",
       "    }\n",
       "\n",
       "    .dataframe thead th {\n",
       "        text-align: left;\n",
       "    }\n",
       "\n",
       "    .dataframe tbody tr th {\n",
       "        vertical-align: top;\n",
       "    }\n",
       "</style>\n",
       "<table border=\"1\" class=\"dataframe\">\n",
       "  <thead>\n",
       "    <tr style=\"text-align: right;\">\n",
       "      <th></th>\n",
       "      <th>compound</th>\n",
       "      <th>neg</th>\n",
       "      <th>neu</th>\n",
       "      <th>pos</th>\n",
       "      <th>sentences</th>\n",
       "      <th>label</th>\n",
       "    </tr>\n",
       "  </thead>\n",
       "  <tbody>\n",
       "    <tr>\n",
       "      <th>0</th>\n",
       "      <td>0.8070</td>\n",
       "      <td>0.000</td>\n",
       "      <td>0.458</td>\n",
       "      <td>0.542</td>\n",
       "      <td>yes #gillette show men the truth &amp;amp; noble w...</td>\n",
       "      <td>1</td>\n",
       "    </tr>\n",
       "    <tr>\n",
       "      <th>1</th>\n",
       "      <td>0.4215</td>\n",
       "      <td>0.000</td>\n",
       "      <td>0.797</td>\n",
       "      <td>0.203</td>\n",
       "      <td>#barbasol has a new ad countering the anti-rea...</td>\n",
       "      <td>1</td>\n",
       "    </tr>\n",
       "    <tr>\n",
       "      <th>2</th>\n",
       "      <td>-0.4767</td>\n",
       "      <td>0.147</td>\n",
       "      <td>0.853</td>\n",
       "      <td>0.000</td>\n",
       "      <td>you know if this guy just would have watched t...</td>\n",
       "      <td>-1</td>\n",
       "    </tr>\n",
       "    <tr>\n",
       "      <th>3</th>\n",
       "      <td>0.3591</td>\n",
       "      <td>0.089</td>\n",
       "      <td>0.717</td>\n",
       "      <td>0.194</td>\n",
       "      <td>guys, please calm down.', it not like #gillett...</td>\n",
       "      <td>1</td>\n",
       "    </tr>\n",
       "    <tr>\n",
       "      <th>4</th>\n",
       "      <td>-0.6486</td>\n",
       "      <td>0.275</td>\n",
       "      <td>0.725</td>\n",
       "      <td>0.000</td>\n",
       "      <td>takes to youtube to rant about the stupidity w...</td>\n",
       "      <td>-1</td>\n",
       "    </tr>\n",
       "  </tbody>\n",
       "</table>\n",
       "</div>"
      ],
      "text/plain": [
       "   compound    neg    neu    pos  \\\n",
       "0    0.8070  0.000  0.458  0.542   \n",
       "1    0.4215  0.000  0.797  0.203   \n",
       "2   -0.4767  0.147  0.853  0.000   \n",
       "3    0.3591  0.089  0.717  0.194   \n",
       "4   -0.6486  0.275  0.725  0.000   \n",
       "\n",
       "                                           sentences  label  \n",
       "0  yes #gillette show men the truth &amp; noble w...      1  \n",
       "1  #barbasol has a new ad countering the anti-rea...      1  \n",
       "2  you know if this guy just would have watched t...     -1  \n",
       "3  guys, please calm down.', it not like #gillett...      1  \n",
       "4  takes to youtube to rant about the stupidity w...     -1  "
      ]
     },
     "execution_count": 11,
     "metadata": {},
     "output_type": "execute_result"
    }
   ],
   "source": [
    "#For our modeling purposes, we do not want to have the percent scores\n",
    "\n",
    "#We can to create a binary label that will evaluate if a tweet is either positive or negative\n",
    "\n",
    "#I later take out neutrals for simplicty after I export from Excel\n",
    "\n",
    "df2 = pd.DataFrame.from_records(scores) #Create a new dataframe or table with the new sentiment scores\n",
    "\n",
    "df2['label'] = 0 #Start the new column label @ zero \n",
    "\n",
    "df2.loc[df2['compound'] > 0.05, 'label'] = 1 #Create a new lable column to evaluate the compound  as greater than 0.05 as\n",
    "#positive, I lowered the threshold here\n",
    "\n",
    "df2.loc[df2['compound'] < -0.05, 'label'] = -1 #In the label column evaluate the compound as less than 0.05 as negative\n",
    "#Anything in between would be labeled as 0 or neutral\n",
    "\n",
    "df2.head() #Call head to see the first 5 records in your new dataframe"
   ]
  },
  {
   "cell_type": "markdown",
   "metadata": {},
   "source": [
    "## Export back to CSV and Excel"
   ]
  },
  {
   "cell_type": "markdown",
   "metadata": {},
   "source": [
    "Now that we have calculated our new sentiment scores, we can now export it back to CSV to do some further preprocessing, such as cleaning, and going back and making sure the sentiment analyzer categorized certain tweets as negative that the analyze may not have caught on its own. For example, BOYCOTT Gillette would be considered negative to our standpoint, but maybe not to Vader. "
   ]
  },
  {
   "cell_type": "code",
   "execution_count": 12,
   "metadata": {
    "collapsed": true
   },
   "outputs": [],
   "source": [
    "#Export the dataframe back to Excel\n",
    "df2 = df2[['sentences', 'compound', 'neg', 'neu', 'pos', 'label']]\n",
    "df2.to_csv('gilettesent2.csv', encoding='utf-8', index=False)"
   ]
  }
 ],
 "metadata": {
  "kernelspec": {
   "display_name": "Python 3",
   "language": "python",
   "name": "python3"
  },
  "language_info": {
   "codemirror_mode": {
    "name": "ipython",
    "version": 3
   },
   "file_extension": ".py",
   "mimetype": "text/x-python",
   "name": "python",
   "nbconvert_exporter": "python",
   "pygments_lexer": "ipython3",
   "version": "3.6.3"
  }
 },
 "nbformat": 4,
 "nbformat_minor": 2
}
